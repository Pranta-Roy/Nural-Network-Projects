{
  "nbformat": 4,
  "nbformat_minor": 0,
  "metadata": {
    "colab": {
      "name": "classification.ipynb",
      "provenance": []
    },
    "kernelspec": {
      "name": "python3",
      "display_name": "Python 3"
    },
    "language_info": {
      "name": "python"
    }
  },
  "cells": [
    {
      "cell_type": "code",
      "execution_count": null,
      "metadata": {
        "colab": {
          "base_uri": "https://localhost:8080/"
        },
        "id": "PCGrRXxqv6IK",
        "outputId": "6747d2b3-b429-4746-9fed-f1415a9a83d7"
      },
      "outputs": [
        {
          "output_type": "stream",
          "name": "stdout",
          "text": [
            "Mounted at /content/drive\n"
          ]
        }
      ],
      "source": [
        "from google.colab import drive\n",
        "drive.mount('/content/drive')"
      ]
    },
    {
      "cell_type": "code",
      "source": [
        "import numpy as np\n",
        "import pandas as pd"
      ],
      "metadata": {
        "id": "zZoBBujJwQy5"
      },
      "execution_count": null,
      "outputs": []
    },
    {
      "cell_type": "code",
      "source": [
        "dataset=pd.read_csv('/content/drive/MyDrive/Dataset/diabetes.csv', sep=',')"
      ],
      "metadata": {
        "id": "IcPKxQ78wVIt"
      },
      "execution_count": null,
      "outputs": []
    },
    {
      "cell_type": "code",
      "source": [
        "X=dataset.iloc[:,0:-1].values\n",
        "y=dataset.iloc[:,-1].values"
      ],
      "metadata": {
        "id": "WU5rcwDnwzE8"
      },
      "execution_count": null,
      "outputs": []
    },
    {
      "cell_type": "code",
      "source": [
        "from sklearn.preprocessing import LabelEncoder\n",
        "le=LabelEncoder()\n",
        "X[:,0]=le.fit_transform(X[:,0])"
      ],
      "metadata": {
        "id": "slL5rNDWxCzn"
      },
      "execution_count": null,
      "outputs": []
    },
    {
      "cell_type": "code",
      "source": [
        "from sklearn.preprocessing import MinMaxScaler,StandardScaler\n",
        "sc = MinMaxScaler()\n",
        "X= sc.fit_transform(X)"
      ],
      "metadata": {
        "id": "TlG08AZgxWPX"
      },
      "execution_count": null,
      "outputs": []
    },
    {
      "cell_type": "code",
      "source": [
        "from sklearn.model_selection import train_test_split\n",
        "X_train, X_test, y_train, y_test = train_test_split(X, y, test_size = 0.20, random_state=0)"
      ],
      "metadata": {
        "id": "JekUOEsHxicV"
      },
      "execution_count": null,
      "outputs": []
    },
    {
      "cell_type": "code",
      "source": [
        "from tensorflow.keras.models import Sequential\n",
        "from tensorflow.keras.layers import Dense"
      ],
      "metadata": {
        "id": "C-PhEM7Qxr2o"
      },
      "execution_count": null,
      "outputs": []
    },
    {
      "cell_type": "code",
      "source": [
        "#define the keras model\n",
        "model = Sequential()\n",
        "model.add(Dense(12,input_dim=8, activation='relu'))\n",
        "model.add(Dense(8,activation='relu'))\n",
        "model.add(Dense(4,activation='relu'))\n",
        "model.add(Dense(1,activation='sigmoid'))\n",
        "#compile the keras model\n",
        "model.compile(loss='binary_crossentropy', optimizer='adam', metrics=['accuracy'])"
      ],
      "metadata": {
        "id": "mIdbEfIXxwcu"
      },
      "execution_count": null,
      "outputs": []
    },
    {
      "cell_type": "code",
      "source": [
        "model.summary()"
      ],
      "metadata": {
        "colab": {
          "base_uri": "https://localhost:8080/"
        },
        "id": "8J-FArtCx26f",
        "outputId": "1e2681de-27ce-49e1-f6d6-d7a0a5ad3b2e"
      },
      "execution_count": null,
      "outputs": [
        {
          "output_type": "stream",
          "name": "stdout",
          "text": [
            "Model: \"sequential\"\n",
            "_________________________________________________________________\n",
            " Layer (type)                Output Shape              Param #   \n",
            "=================================================================\n",
            " dense (Dense)               (None, 12)                108       \n",
            "                                                                 \n",
            " dense_1 (Dense)             (None, 8)                 104       \n",
            "                                                                 \n",
            " dense_2 (Dense)             (None, 4)                 36        \n",
            "                                                                 \n",
            " dense_3 (Dense)             (None, 1)                 5         \n",
            "                                                                 \n",
            "=================================================================\n",
            "Total params: 253\n",
            "Trainable params: 253\n",
            "Non-trainable params: 0\n",
            "_________________________________________________________________\n"
          ]
        }
      ]
    },
    {
      "cell_type": "code",
      "source": [
        ""
      ],
      "metadata": {
        "id": "RPqomMGLD1Mq"
      },
      "execution_count": null,
      "outputs": []
    },
    {
      "cell_type": "code",
      "source": [
        "history = model.fit(X_train,y_train,epochs=50,batch_size=20)"
      ],
      "metadata": {
        "colab": {
          "base_uri": "https://localhost:8080/"
        },
        "id": "k45vqOvsyAWm",
        "outputId": "55037aaa-7285-4b14-8747-aba0314fbf95"
      },
      "execution_count": null,
      "outputs": [
        {
          "output_type": "stream",
          "name": "stdout",
          "text": [
            "Epoch 1/50\n",
            "31/31 [==============================] - 1s 2ms/step - loss: 0.6869 - accuracy: 0.6221\n",
            "Epoch 2/50\n",
            "31/31 [==============================] - 0s 2ms/step - loss: 0.6732 - accuracy: 0.6417\n",
            "Epoch 3/50\n",
            "31/31 [==============================] - 0s 2ms/step - loss: 0.6592 - accuracy: 0.6401\n",
            "Epoch 4/50\n",
            "31/31 [==============================] - 0s 2ms/step - loss: 0.6502 - accuracy: 0.6401\n",
            "Epoch 5/50\n",
            "31/31 [==============================] - 0s 2ms/step - loss: 0.6441 - accuracy: 0.6401\n",
            "Epoch 6/50\n",
            "31/31 [==============================] - 0s 2ms/step - loss: 0.6366 - accuracy: 0.6417\n",
            "Epoch 7/50\n",
            "31/31 [==============================] - 0s 2ms/step - loss: 0.6301 - accuracy: 0.6417\n",
            "Epoch 8/50\n",
            "31/31 [==============================] - 0s 1ms/step - loss: 0.6229 - accuracy: 0.6433\n",
            "Epoch 9/50\n",
            "31/31 [==============================] - 0s 2ms/step - loss: 0.6157 - accuracy: 0.6466\n",
            "Epoch 10/50\n",
            "31/31 [==============================] - 0s 1ms/step - loss: 0.6083 - accuracy: 0.6629\n",
            "Epoch 11/50\n",
            "31/31 [==============================] - 0s 2ms/step - loss: 0.6011 - accuracy: 0.6743\n",
            "Epoch 12/50\n",
            "31/31 [==============================] - 0s 2ms/step - loss: 0.5935 - accuracy: 0.6889\n",
            "Epoch 13/50\n",
            "31/31 [==============================] - 0s 1ms/step - loss: 0.5847 - accuracy: 0.6889\n",
            "Epoch 14/50\n",
            "31/31 [==============================] - 0s 2ms/step - loss: 0.5778 - accuracy: 0.7052\n",
            "Epoch 15/50\n",
            "31/31 [==============================] - 0s 2ms/step - loss: 0.5676 - accuracy: 0.7085\n",
            "Epoch 16/50\n",
            "31/31 [==============================] - 0s 2ms/step - loss: 0.5587 - accuracy: 0.7166\n",
            "Epoch 17/50\n",
            "31/31 [==============================] - 0s 2ms/step - loss: 0.5509 - accuracy: 0.7231\n",
            "Epoch 18/50\n",
            "31/31 [==============================] - 0s 2ms/step - loss: 0.5447 - accuracy: 0.7231\n",
            "Epoch 19/50\n",
            "31/31 [==============================] - 0s 2ms/step - loss: 0.5404 - accuracy: 0.7248\n",
            "Epoch 20/50\n",
            "31/31 [==============================] - 0s 2ms/step - loss: 0.5345 - accuracy: 0.7296\n",
            "Epoch 21/50\n",
            "31/31 [==============================] - 0s 2ms/step - loss: 0.5247 - accuracy: 0.7394\n",
            "Epoch 22/50\n",
            "31/31 [==============================] - 0s 2ms/step - loss: 0.5228 - accuracy: 0.7427\n",
            "Epoch 23/50\n",
            "31/31 [==============================] - 0s 2ms/step - loss: 0.5131 - accuracy: 0.7590\n",
            "Epoch 24/50\n",
            "31/31 [==============================] - 0s 2ms/step - loss: 0.5099 - accuracy: 0.7476\n",
            "Epoch 25/50\n",
            "31/31 [==============================] - 0s 2ms/step - loss: 0.5124 - accuracy: 0.7541\n",
            "Epoch 26/50\n",
            "31/31 [==============================] - 0s 2ms/step - loss: 0.5014 - accuracy: 0.7590\n",
            "Epoch 27/50\n",
            "31/31 [==============================] - 0s 2ms/step - loss: 0.4950 - accuracy: 0.7622\n",
            "Epoch 28/50\n",
            "31/31 [==============================] - 0s 2ms/step - loss: 0.4909 - accuracy: 0.7687\n",
            "Epoch 29/50\n",
            "31/31 [==============================] - 0s 1ms/step - loss: 0.4885 - accuracy: 0.7704\n",
            "Epoch 30/50\n",
            "31/31 [==============================] - 0s 1ms/step - loss: 0.4861 - accuracy: 0.7752\n",
            "Epoch 31/50\n",
            "31/31 [==============================] - 0s 2ms/step - loss: 0.4839 - accuracy: 0.7801\n",
            "Epoch 32/50\n",
            "31/31 [==============================] - 0s 1ms/step - loss: 0.4850 - accuracy: 0.7720\n",
            "Epoch 33/50\n",
            "31/31 [==============================] - 0s 2ms/step - loss: 0.4750 - accuracy: 0.7720\n",
            "Epoch 34/50\n",
            "31/31 [==============================] - 0s 2ms/step - loss: 0.4734 - accuracy: 0.7736\n",
            "Epoch 35/50\n",
            "31/31 [==============================] - 0s 2ms/step - loss: 0.4693 - accuracy: 0.7655\n",
            "Epoch 36/50\n",
            "31/31 [==============================] - 0s 2ms/step - loss: 0.4694 - accuracy: 0.7801\n",
            "Epoch 37/50\n",
            "31/31 [==============================] - 0s 2ms/step - loss: 0.4651 - accuracy: 0.7801\n",
            "Epoch 38/50\n",
            "31/31 [==============================] - 0s 2ms/step - loss: 0.4640 - accuracy: 0.7866\n",
            "Epoch 39/50\n",
            "31/31 [==============================] - 0s 1ms/step - loss: 0.4620 - accuracy: 0.7801\n",
            "Epoch 40/50\n",
            "31/31 [==============================] - 0s 1ms/step - loss: 0.4633 - accuracy: 0.7785\n",
            "Epoch 41/50\n",
            "31/31 [==============================] - 0s 2ms/step - loss: 0.4605 - accuracy: 0.7801\n",
            "Epoch 42/50\n",
            "31/31 [==============================] - 0s 1ms/step - loss: 0.4597 - accuracy: 0.7834\n",
            "Epoch 43/50\n",
            "31/31 [==============================] - 0s 2ms/step - loss: 0.4700 - accuracy: 0.7915\n",
            "Epoch 44/50\n",
            "31/31 [==============================] - 0s 2ms/step - loss: 0.4608 - accuracy: 0.7785\n",
            "Epoch 45/50\n",
            "31/31 [==============================] - 0s 2ms/step - loss: 0.4578 - accuracy: 0.7834\n",
            "Epoch 46/50\n",
            "31/31 [==============================] - 0s 2ms/step - loss: 0.4556 - accuracy: 0.7915\n",
            "Epoch 47/50\n",
            "31/31 [==============================] - 0s 1ms/step - loss: 0.4541 - accuracy: 0.7801\n",
            "Epoch 48/50\n",
            "31/31 [==============================] - 0s 2ms/step - loss: 0.4540 - accuracy: 0.7834\n",
            "Epoch 49/50\n",
            "31/31 [==============================] - 0s 1ms/step - loss: 0.4538 - accuracy: 0.7736\n",
            "Epoch 50/50\n",
            "31/31 [==============================] - 0s 1ms/step - loss: 0.4500 - accuracy: 0.7915\n"
          ]
        }
      ]
    },
    {
      "cell_type": "code",
      "source": [
        "accuracy=history.history['accuracy']\n",
        "loss=history.history['loss']"
      ],
      "metadata": {
        "id": "dwk6hSLAy0cf"
      },
      "execution_count": null,
      "outputs": []
    },
    {
      "cell_type": "code",
      "source": [
        "#Plot for Training and Validation accuracy\n",
        "from matplotlib import pyplot as plt\n",
        "plt.plot(history.history ['accuracy'])\n",
        "plt.title('model accuracy')\n",
        "plt.ylabel('accuracy')\n",
        "plt.xlabel('epoch')\n",
        "plt.legend(['train'], loc='upper left')\n",
        "plt.show()\n",
        "plt.savefig('accuracy_curve.png')"
      ],
      "metadata": {
        "colab": {
          "base_uri": "https://localhost:8080/",
          "height": 314
        },
        "id": "UGIAoWddzHya",
        "outputId": "beffa60d-a975-4c87-fa94-9305bb7327e9"
      },
      "execution_count": null,
      "outputs": [
        {
          "output_type": "display_data",
          "data": {
            "text/plain": [
              "<Figure size 432x288 with 1 Axes>"
            ],
            "image/png": "[encoded data removed]"
          },
          "metadata": {
            "needs_background": "light"
          }
        },
        {
          "output_type": "display_data",
          "data": {
            "text/plain": [
              "<Figure size 432x288 with 0 Axes>"
            ]
          },
          "metadata": {}
        }
      ]
    },
    {
      "cell_type": "code",
      "source": [
        "#Plot for training loss\n",
        "plt.plot(history.history ['loss'])\n",
        "plt.title('model loss')\n",
        "plt.ylabel('loss')\n",
        "plt.xlabel('epoch')\n",
        "plt.legend(['train'], loc='upper left')\n",
        "plt.show()\n",
        "plt.savefig('loss_curve.png')"
      ],
      "metadata": {
        "colab": {
          "base_uri": "https://localhost:8080/",
          "height": 314
        },
        "id": "k8eeCwj9zTW-",
        "outputId": "a5ee75a7-b109-414c-e4f5-e01361e34b45"
      },
      "execution_count": null,
      "outputs": [
        {
          "output_type": "display_data",
          "data": {
            "text/plain": [
              "<Figure size 432x288 with 1 Axes>"
            ],
            "image/png": "[encoded data removed]"
          },
          "metadata": {
            "needs_background": "light"
          }
        },
        {
          "output_type": "display_data",
          "data": {
            "text/plain": [
              "<Figure size 432x288 with 0 Axes>"
            ]
          },
          "metadata": {}
        }
      ]
    },
    {
      "cell_type": "code",
      "source": [
        "history_test = model.evaluate(X_test,y_test)"
      ],
      "metadata": {
        "colab": {
          "base_uri": "https://localhost:8080/"
        },
        "id": "Sm7lIYFezi0D",
        "outputId": "1ee56733-d764-4840-c511-cf84af003fb4"
      },
      "execution_count": null,
      "outputs": [
        {
          "output_type": "stream",
          "name": "stdout",
          "text": [
            "5/5 [==============================] - 0s 3ms/step - loss: 0.4372 - accuracy: 0.7857\n"
          ]
        }
      ]
    },
    {
      "cell_type": "code",
      "source": [
        "history_test"
      ],
      "metadata": {
        "colab": {
          "base_uri": "https://localhost:8080/"
        },
        "id": "vsZy45guzkKD",
        "outputId": "d34fa362-32ff-498e-d31a-051324e6b15f"
      },
      "execution_count": null,
      "outputs": [
        {
          "output_type": "execute_result",
          "data": {
            "text/plain": [
              "[0.4372215270996094, 0.7857142686843872]"
            ]
          },
          "metadata": {},
          "execution_count": 16
        }
      ]
    },
    {
      "cell_type": "code",
      "source": [
        " "
      ],
      "metadata": {
        "id": "fO_V23bdzriu"
      },
      "execution_count": null,
      "outputs": []
    }
  ]
}