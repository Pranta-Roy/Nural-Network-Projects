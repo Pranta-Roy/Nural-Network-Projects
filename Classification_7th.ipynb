{
  "nbformat": 4,
  "nbformat_minor": 0,
  "metadata": {
    "colab": {
      "name": "Classification_7th.ipynb",
      "provenance": [],
      "collapsed_sections": []
    },
    "kernelspec": {
      "name": "python3",
      "display_name": "Python 3"
    },
    "language_info": {
      "name": "python"
    }
  },
  "cells": [
    {
      "cell_type": "code",
      "execution_count": null,
      "metadata": {
        "id": "rMDrIRRL9day",
        "colab": {
          "base_uri": "https://localhost:8080/"
        },
        "outputId": "86b82a58-48cf-4927-8508-f7f9648fcd23"
      },
      "outputs": [
        {
          "output_type": "stream",
          "name": "stdout",
          "text": [
            "Mounted at /content/drive\n"
          ]
        }
      ],
      "source": [
        "from google.colab import drive\n",
        "drive.mount('/content/drive')"
      ]
    },
    {
      "cell_type": "code",
      "source": [
        "import numpy as np\n",
        "import pandas as pd\n",
        "import tensorflow as tf\n",
        "\n",
        "#import keras\n",
        "from keras.models import Sequential\n",
        "from keras.layers import Dense\n",
        "#plot\n",
        "from matplotlib import pyplot as plt"
      ],
      "metadata": {
        "id": "YwamUgi_-jCu"
      },
      "execution_count": null,
      "outputs": []
    },
    {
      "cell_type": "code",
      "source": [
        "dataset=pd.read_csv('/content/drive/MyDrive/7th sem/NNFLL/BankNoteAuthentication.csv', sep=',')\n",
        "X=dataset.iloc[:, 0:-1].values\n",
        "y=dataset.iloc[:, -1].values"
      ],
      "metadata": {
        "id": "Lux0fJduAaVe"
      },
      "execution_count": null,
      "outputs": []
    },
    {
      "cell_type": "code",
      "source": [
        "X"
      ],
      "metadata": {
        "colab": {
          "base_uri": "https://localhost:8080/"
        },
        "id": "Veca3EP0Fi66",
        "outputId": "cbece27d-75be-4f7b-ed38-db31ade720f9"
      },
      "execution_count": null,
      "outputs": [
        {
          "output_type": "execute_result",
          "data": {
            "text/plain": [
              "array([[  3.6216 ,   8.6661 ,  -2.8073 ,  -0.44699],\n",
              "       [  4.5459 ,   8.1674 ,  -2.4586 ,  -1.4621 ],\n",
              "       [  3.866  ,  -2.6383 ,   1.9242 ,   0.10645],\n",
              "       ...,\n",
              "       [ -3.7503 , -13.4586 ,  17.5932 ,  -2.7771 ],\n",
              "       [ -3.5637 ,  -8.3827 ,  12.393  ,  -1.2823 ],\n",
              "       [ -2.5419 ,  -0.65804,   2.6842 ,   1.1952 ]])"
            ]
          },
          "metadata": {},
          "execution_count": 34
        }
      ]
    },
    {
      "cell_type": "code",
      "source": [
        "dataset"
      ],
      "metadata": {
        "colab": {
          "base_uri": "https://localhost:8080/",
          "height": 424
        },
        "id": "tY2BmAcvChWG",
        "outputId": "0f0d4e0c-cc8f-4a83-feca-583d06c8473e"
      },
      "execution_count": null,
      "outputs": [
        {
          "output_type": "execute_result",
          "data": {
            "text/plain": [
              "      variance  skewness  curtosis  entropy  class\n",
              "0      3.62160   8.66610   -2.8073 -0.44699      0\n",
              "1      4.54590   8.16740   -2.4586 -1.46210      0\n",
              "2      3.86600  -2.63830    1.9242  0.10645      0\n",
              "3      3.45660   9.52280   -4.0112 -3.59440      0\n",
              "4      0.32924  -4.45520    4.5718 -0.98880      0\n",
              "...        ...       ...       ...      ...    ...\n",
              "1367   0.40614   1.34920   -1.4501 -0.55949      1\n",
              "1368  -1.38870  -4.87730    6.4774  0.34179      1\n",
              "1369  -3.75030 -13.45860   17.5932 -2.77710      1\n",
              "1370  -3.56370  -8.38270   12.3930 -1.28230      1\n",
              "1371  -2.54190  -0.65804    2.6842  1.19520      1\n",
              "\n",
              "[1372 rows x 5 columns]"
            ],
            "text/html": [
              "\n",
              "  <div id=\"df-b2bdea8f-6d1e-4cc6-85ff-ed5c30db6d4d\">\n",
              "    <div class=\"colab-df-container\">\n",
              "      <div>\n",
              "<style scoped>\n",
              "    .dataframe tbody tr th:only-of-type {\n",
              "        vertical-align: middle;\n",
              "    }\n",
              "\n",
              "    .dataframe tbody tr th {\n",
              "        vertical-align: top;\n",
              "    }\n",
              "\n",
              "    .dataframe thead th {\n",
              "        text-align: right;\n",
              "    }\n",
              "</style>\n",
              "<table border=\"1\" class=\"dataframe\">\n",
              "  <thead>\n",
              "    <tr style=\"text-align: right;\">\n",
              "      <th></th>\n",
              "      <th>variance</th>\n",
              "      <th>skewness</th>\n",
              "      <th>curtosis</th>\n",
              "      <th>entropy</th>\n",
              "      <th>class</th>\n",
              "    </tr>\n",
              "  </thead>\n",
              "  <tbody>\n",
              "    <tr>\n",
              "      <th>0</th>\n",
              "      <td>3.62160</td>\n",
              "      <td>8.66610</td>\n",
              "      <td>-2.8073</td>\n",
              "      <td>-0.44699</td>\n",
              "      <td>0</td>\n",
              "    </tr>\n",
              "    <tr>\n",
              "      <th>1</th>\n",
              "      <td>4.54590</td>\n",
              "      <td>8.16740</td>\n",
              "      <td>-2.4586</td>\n",
              "      <td>-1.46210</td>\n",
              "      <td>0</td>\n",
              "    </tr>\n",
              "    <tr>\n",
              "      <th>2</th>\n",
              "      <td>3.86600</td>\n",
              "      <td>-2.63830</td>\n",
              "      <td>1.9242</td>\n",
              "      <td>0.10645</td>\n",
              "      <td>0</td>\n",
              "    </tr>\n",
              "    <tr>\n",
              "      <th>3</th>\n",
              "      <td>3.45660</td>\n",
              "      <td>9.52280</td>\n",
              "      <td>-4.0112</td>\n",
              "      <td>-3.59440</td>\n",
              "      <td>0</td>\n",
              "    </tr>\n",
              "    <tr>\n",
              "      <th>4</th>\n",
              "      <td>0.32924</td>\n",
              "      <td>-4.45520</td>\n",
              "      <td>4.5718</td>\n",
              "      <td>-0.98880</td>\n",
              "      <td>0</td>\n",
              "    </tr>\n",
              "    <tr>\n",
              "      <th>...</th>\n",
              "      <td>...</td>\n",
              "      <td>...</td>\n",
              "      <td>...</td>\n",
              "      <td>...</td>\n",
              "      <td>...</td>\n",
              "    </tr>\n",
              "    <tr>\n",
              "      <th>1367</th>\n",
              "      <td>0.40614</td>\n",
              "      <td>1.34920</td>\n",
              "      <td>-1.4501</td>\n",
              "      <td>-0.55949</td>\n",
              "      <td>1</td>\n",
              "    </tr>\n",
              "    <tr>\n",
              "      <th>1368</th>\n",
              "      <td>-1.38870</td>\n",
              "      <td>-4.87730</td>\n",
              "      <td>6.4774</td>\n",
              "      <td>0.34179</td>\n",
              "      <td>1</td>\n",
              "    </tr>\n",
              "    <tr>\n",
              "      <th>1369</th>\n",
              "      <td>-3.75030</td>\n",
              "      <td>-13.45860</td>\n",
              "      <td>17.5932</td>\n",
              "      <td>-2.77710</td>\n",
              "      <td>1</td>\n",
              "    </tr>\n",
              "    <tr>\n",
              "      <th>1370</th>\n",
              "      <td>-3.56370</td>\n",
              "      <td>-8.38270</td>\n",
              "      <td>12.3930</td>\n",
              "      <td>-1.28230</td>\n",
              "      <td>1</td>\n",
              "    </tr>\n",
              "    <tr>\n",
              "      <th>1371</th>\n",
              "      <td>-2.54190</td>\n",
              "      <td>-0.65804</td>\n",
              "      <td>2.6842</td>\n",
              "      <td>1.19520</td>\n",
              "      <td>1</td>\n",
              "    </tr>\n",
              "  </tbody>\n",
              "</table>\n",
              "<p>1372 rows × 5 columns</p>\n",
              "</div>\n",
              "      <button class=\"colab-df-convert\" onclick=\"convertToInteractive('df-b2bdea8f-6d1e-4cc6-85ff-ed5c30db6d4d')\"\n",
              "              title=\"Convert this dataframe to an interactive table.\"\n",
              "              style=\"display:none;\">\n",
              "        \n",
              "  <svg xmlns=\"http://www.w3.org/2000/svg\" height=\"24px\"viewBox=\"0 0 24 24\"\n",
              "       width=\"24px\">\n",
              "    <path d=\"M0 0h24v24H0V0z\" fill=\"none\"/>\n",
              "    <path d=\"M18.56 5.44l.94 2.06.94-2.06 2.06-.94-2.06-.94-.94-2.06-.94 2.06-2.06.94zm-11 1L8.5 8.5l.94-2.06 2.06-.94-2.06-.94L8.5 2.5l-.94 2.06-2.06.94zm10 10l.94 2.06.94-2.06 2.06-.94-2.06-.94-.94-2.06-.94 2.06-2.06.94z\"/><path d=\"M17.41 7.96l-1.37-1.37c-.4-.4-.92-.59-1.43-.59-.52 0-1.04.2-1.43.59L10.3 9.45l-7.72 7.72c-.78.78-.78 2.05 0 2.83L4 21.41c.39.39.9.59 1.41.59.51 0 1.02-.2 1.41-.59l7.78-7.78 2.81-2.81c.8-.78.8-2.07 0-2.86zM5.41 20L4 18.59l7.72-7.72 1.47 1.35L5.41 20z\"/>\n",
              "  </svg>\n",
              "      </button>\n",
              "      \n",
              "  <style>\n",
              "    .colab-df-container {\n",
              "      display:flex;\n",
              "      flex-wrap:wrap;\n",
              "      gap: 12px;\n",
              "    }\n",
              "\n",
              "    .colab-df-convert {\n",
              "      background-color: #E8F0FE;\n",
              "      border: none;\n",
              "      border-radius: 50%;\n",
              "      cursor: pointer;\n",
              "      display: none;\n",
              "      fill: #1967D2;\n",
              "      height: 32px;\n",
              "      padding: 0 0 0 0;\n",
              "      width: 32px;\n",
              "    }\n",
              "\n",
              "    .colab-df-convert:hover {\n",
              "      background-color: #E2EBFA;\n",
              "      box-shadow: 0px 1px 2px rgba(60, 64, 67, 0.3), 0px 1px 3px 1px rgba(60, 64, 67, 0.15);\n",
              "      fill: #174EA6;\n",
              "    }\n",
              "\n",
              "    [theme=dark] .colab-df-convert {\n",
              "      background-color: #3B4455;\n",
              "      fill: #D2E3FC;\n",
              "    }\n",
              "\n",
              "    [theme=dark] .colab-df-convert:hover {\n",
              "      background-color: #434B5C;\n",
              "      box-shadow: 0px 1px 3px 1px rgba(0, 0, 0, 0.15);\n",
              "      filter: drop-shadow(0px 1px 2px rgba(0, 0, 0, 0.3));\n",
              "      fill: #FFFFFF;\n",
              "    }\n",
              "  </style>\n",
              "\n",
              "      <script>\n",
              "        const buttonEl =\n",
              "          document.querySelector('#df-b2bdea8f-6d1e-4cc6-85ff-ed5c30db6d4d button.colab-df-convert');\n",
              "        buttonEl.style.display =\n",
              "          google.colab.kernel.accessAllowed ? 'block' : 'none';\n",
              "\n",
              "        async function convertToInteractive(key) {\n",
              "          const element = document.querySelector('#df-b2bdea8f-6d1e-4cc6-85ff-ed5c30db6d4d');\n",
              "          const dataTable =\n",
              "            await google.colab.kernel.invokeFunction('convertToInteractive',\n",
              "                                                     [key], {});\n",
              "          if (!dataTable) return;\n",
              "\n",
              "          const docLinkHtml = 'Like what you see? Visit the ' +\n",
              "            '<a target=\"_blank\" href=https://colab.research.google.com/notebooks/data_table.ipynb>data table notebook</a>'\n",
              "            + ' to learn more about interactive tables.';\n",
              "          element.innerHTML = '';\n",
              "          dataTable['output_type'] = 'display_data';\n",
              "          await google.colab.output.renderOutput(dataTable, element);\n",
              "          const docLink = document.createElement('div');\n",
              "          docLink.innerHTML = docLinkHtml;\n",
              "          element.appendChild(docLink);\n",
              "        }\n",
              "      </script>\n",
              "    </div>\n",
              "  </div>\n",
              "  "
            ]
          },
          "metadata": {},
          "execution_count": 5
        }
      ]
    },
    {
      "cell_type": "code",
      "source": [
        "X"
      ],
      "metadata": {
        "colab": {
          "base_uri": "https://localhost:8080/"
        },
        "id": "_NivrJ18CnFV",
        "outputId": "253431cb-3a33-4ae7-f67d-4c78552d6178"
      },
      "execution_count": null,
      "outputs": [
        {
          "output_type": "execute_result",
          "data": {
            "text/plain": [
              "array([[  3.6216 ,   8.6661 ,  -2.8073 ,  -0.44699],\n",
              "       [  4.5459 ,   8.1674 ,  -2.4586 ,  -1.4621 ],\n",
              "       [  3.866  ,  -2.6383 ,   1.9242 ,   0.10645],\n",
              "       ...,\n",
              "       [ -3.7503 , -13.4586 ,  17.5932 ,  -2.7771 ],\n",
              "       [ -3.5637 ,  -8.3827 ,  12.393  ,  -1.2823 ],\n",
              "       [ -2.5419 ,  -0.65804,   2.6842 ,   1.1952 ]])"
            ]
          },
          "metadata": {},
          "execution_count": 6
        }
      ]
    },
    {
      "cell_type": "code",
      "source": [
        "y"
      ],
      "metadata": {
        "colab": {
          "base_uri": "https://localhost:8080/"
        },
        "id": "tn09UfnYCzk0",
        "outputId": "0006caf2-2cde-4052-be92-6f930f589536"
      },
      "execution_count": null,
      "outputs": [
        {
          "output_type": "execute_result",
          "data": {
            "text/plain": [
              "array([0, 0, 0, ..., 1, 1, 1])"
            ]
          },
          "metadata": {},
          "execution_count": 7
        }
      ]
    },
    {
      "cell_type": "code",
      "source": [
        "dataset.shape"
      ],
      "metadata": {
        "colab": {
          "base_uri": "https://localhost:8080/"
        },
        "id": "vz_nUZ2fC9NV",
        "outputId": "ab4e7807-b643-4b37-b59a-90ab30d3bc0b"
      },
      "execution_count": null,
      "outputs": [
        {
          "output_type": "execute_result",
          "data": {
            "text/plain": [
              "(1372, 5)"
            ]
          },
          "metadata": {},
          "execution_count": 8
        }
      ]
    },
    {
      "cell_type": "code",
      "source": [
        "X.shape"
      ],
      "metadata": {
        "colab": {
          "base_uri": "https://localhost:8080/"
        },
        "id": "g_9EsWn1C_xt",
        "outputId": "55e597ce-0c18-487f-9b1f-6d942a8f81e7"
      },
      "execution_count": null,
      "outputs": [
        {
          "output_type": "execute_result",
          "data": {
            "text/plain": [
              "(1372, 4)"
            ]
          },
          "metadata": {},
          "execution_count": 9
        }
      ]
    },
    {
      "cell_type": "code",
      "source": [
        "y.shape"
      ],
      "metadata": {
        "colab": {
          "base_uri": "https://localhost:8080/"
        },
        "id": "hX0XzGeBDCLt",
        "outputId": "b74083bd-ae9d-4329-c502-3f31c5dfa511"
      },
      "execution_count": null,
      "outputs": [
        {
          "output_type": "execute_result",
          "data": {
            "text/plain": [
              "(1372,)"
            ]
          },
          "metadata": {},
          "execution_count": 10
        }
      ]
    },
    {
      "cell_type": "code",
      "source": [
        "X"
      ],
      "metadata": {
        "colab": {
          "base_uri": "https://localhost:8080/"
        },
        "id": "GoDfEBB3ENVF",
        "outputId": "7c6947f8-fa09-4958-e6ce-e06183bd6a2f"
      },
      "execution_count": null,
      "outputs": [
        {
          "output_type": "execute_result",
          "data": {
            "text/plain": [
              "array([[1106., 1068.,  198.,  652.],\n",
              "       [1249., 1042.,  220.,  424.],\n",
              "       [1146.,  285.,  800.,  803.],\n",
              "       ...,\n",
              "       [ 100.,    4., 1266.,  277.],\n",
              "       [ 119.,   66., 1240.,  451.],\n",
              "       [ 211.,  359.,  903., 1082.]])"
            ]
          },
          "metadata": {},
          "execution_count": 12
        }
      ]
    },
    {
      "cell_type": "code",
      "source": [
        "y"
      ],
      "metadata": {
        "colab": {
          "base_uri": "https://localhost:8080/"
        },
        "id": "ieV83aZ4ElIU",
        "outputId": "0607c4b6-9121-4678-f87b-f340859c96c4"
      },
      "execution_count": null,
      "outputs": [
        {
          "output_type": "execute_result",
          "data": {
            "text/plain": [
              "array([0, 0, 0, ..., 1, 1, 1])"
            ]
          },
          "metadata": {},
          "execution_count": 13
        }
      ]
    },
    {
      "cell_type": "code",
      "source": [
        "#test train splitting\n",
        "from sklearn.model_selection import train_test_split\n",
        "X_train, X_test, y_train, y_test = train_test_split(X, y,test_size = 0.3, random_state = 0)"
      ],
      "metadata": {
        "id": "tbJ0zav4EnCW"
      },
      "execution_count": null,
      "outputs": []
    },
    {
      "cell_type": "code",
      "source": [
        "#feature scale\n",
        "#a method used to normalize the range of independent variables / features of data\n",
        "from sklearn.preprocessing import StandardScaler\n",
        "sc = StandardScaler()\n",
        "X_train = sc.fit_transform(X_train)\n",
        "X_test= sc.transform(X_test)"
      ],
      "metadata": {
        "id": "R9DX4Y7XFfSU"
      },
      "execution_count": null,
      "outputs": []
    },
    {
      "cell_type": "code",
      "source": [
        "#keras define\n",
        "model = Sequential()\n",
        "model.add(Dense(8,input_dim=4, activation='relu')) \n",
        "model.add(Dense(3,activation='relu'))\n",
        "model.add(Dense(1,activation='sigmoid')) \n",
        "#compile the keras model\n",
        "model.compile(loss='binary_crossentropy', optimizer='adam', metrics=['accuracy'])"
      ],
      "metadata": {
        "id": "12tkgGkqF_58"
      },
      "execution_count": null,
      "outputs": []
    },
    {
      "cell_type": "code",
      "source": [
        "model.summary()"
      ],
      "metadata": {
        "colab": {
          "base_uri": "https://localhost:8080/"
        },
        "id": "ATunB4yPHh88",
        "outputId": "ad86f182-346f-4c8e-f9fd-5fd54f644efc"
      },
      "execution_count": null,
      "outputs": [
        {
          "output_type": "stream",
          "name": "stdout",
          "text": [
            "Model: \"sequential\"\n",
            "_________________________________________________________________\n",
            " Layer (type)                Output Shape              Param #   \n",
            "=================================================================\n",
            " dense (Dense)               (None, 8)                 40        \n",
            "                                                                 \n",
            " dense_1 (Dense)             (None, 3)                 27        \n",
            "                                                                 \n",
            " dense_2 (Dense)             (None, 1)                 4         \n",
            "                                                                 \n",
            "=================================================================\n",
            "Total params: 71\n",
            "Trainable params: 71\n",
            "Non-trainable params: 0\n",
            "_________________________________________________________________\n"
          ]
        }
      ]
    },
    {
      "cell_type": "code",
      "source": [
        "history = model.fit(X_train,y_train,epochs=50,batch_size=5)"
      ],
      "metadata": {
        "colab": {
          "base_uri": "https://localhost:8080/"
        },
        "id": "RxCl3S66M-Qb",
        "outputId": "9c9dfd91-3fc9-4803-8400-dce3b0ea166c"
      },
      "execution_count": null,
      "outputs": [
        {
          "output_type": "stream",
          "name": "stdout",
          "text": [
            "Epoch 1/50\n",
            "192/192 [==============================] - 1s 1ms/step - loss: 0.6434 - accuracy: 0.6375\n",
            "Epoch 2/50\n",
            "192/192 [==============================] - 0s 2ms/step - loss: 0.5600 - accuracy: 0.7365\n",
            "Epoch 3/50\n",
            "192/192 [==============================] - 0s 2ms/step - loss: 0.4625 - accuracy: 0.8188\n",
            "Epoch 4/50\n",
            "192/192 [==============================] - 0s 2ms/step - loss: 0.3190 - accuracy: 0.8958\n",
            "Epoch 5/50\n",
            "192/192 [==============================] - 0s 2ms/step - loss: 0.1706 - accuracy: 0.9563\n",
            "Epoch 6/50\n",
            "192/192 [==============================] - 0s 2ms/step - loss: 0.1055 - accuracy: 0.9802\n",
            "Epoch 7/50\n",
            "192/192 [==============================] - 0s 2ms/step - loss: 0.0763 - accuracy: 0.9823\n",
            "Epoch 8/50\n",
            "192/192 [==============================] - 0s 2ms/step - loss: 0.0595 - accuracy: 0.9906\n",
            "Epoch 9/50\n",
            "192/192 [==============================] - 0s 2ms/step - loss: 0.0474 - accuracy: 0.9906\n",
            "Epoch 10/50\n",
            "192/192 [==============================] - 0s 2ms/step - loss: 0.0394 - accuracy: 0.9937\n",
            "Epoch 11/50\n",
            "192/192 [==============================] - 0s 2ms/step - loss: 0.0337 - accuracy: 0.9958\n",
            "Epoch 12/50\n",
            "192/192 [==============================] - 0s 2ms/step - loss: 0.0298 - accuracy: 0.9958\n",
            "Epoch 13/50\n",
            "192/192 [==============================] - 0s 2ms/step - loss: 0.0264 - accuracy: 0.9969\n",
            "Epoch 14/50\n",
            "192/192 [==============================] - 0s 1ms/step - loss: 0.0241 - accuracy: 0.9969\n",
            "Epoch 15/50\n",
            "192/192 [==============================] - 0s 1ms/step - loss: 0.0220 - accuracy: 0.9958\n",
            "Epoch 16/50\n",
            "192/192 [==============================] - 0s 2ms/step - loss: 0.0197 - accuracy: 0.9969\n",
            "Epoch 17/50\n",
            "192/192 [==============================] - 0s 1ms/step - loss: 0.0179 - accuracy: 0.9969\n",
            "Epoch 18/50\n",
            "192/192 [==============================] - 0s 1ms/step - loss: 0.0166 - accuracy: 0.9969\n",
            "Epoch 19/50\n",
            "192/192 [==============================] - 0s 1ms/step - loss: 0.0158 - accuracy: 0.9969\n",
            "Epoch 20/50\n",
            "192/192 [==============================] - 0s 1ms/step - loss: 0.0143 - accuracy: 0.9969\n",
            "Epoch 21/50\n",
            "192/192 [==============================] - 0s 1ms/step - loss: 0.0135 - accuracy: 0.9969\n",
            "Epoch 22/50\n",
            "192/192 [==============================] - 0s 2ms/step - loss: 0.0124 - accuracy: 0.9969\n",
            "Epoch 23/50\n",
            "192/192 [==============================] - 0s 1ms/step - loss: 0.0119 - accuracy: 0.9969\n",
            "Epoch 24/50\n",
            "192/192 [==============================] - 0s 2ms/step - loss: 0.0111 - accuracy: 0.9969\n",
            "Epoch 25/50\n",
            "192/192 [==============================] - 0s 1ms/step - loss: 0.0098 - accuracy: 0.9969\n",
            "Epoch 26/50\n",
            "192/192 [==============================] - 0s 1ms/step - loss: 0.0099 - accuracy: 0.9969\n",
            "Epoch 27/50\n",
            "192/192 [==============================] - 0s 2ms/step - loss: 0.0092 - accuracy: 0.9969\n",
            "Epoch 28/50\n",
            "192/192 [==============================] - 0s 1ms/step - loss: 0.0081 - accuracy: 0.9969\n",
            "Epoch 29/50\n",
            "192/192 [==============================] - 0s 1ms/step - loss: 0.0079 - accuracy: 0.9969\n",
            "Epoch 30/50\n",
            "192/192 [==============================] - 0s 2ms/step - loss: 0.0073 - accuracy: 0.9990\n",
            "Epoch 31/50\n",
            "192/192 [==============================] - 0s 1ms/step - loss: 0.0075 - accuracy: 0.9969\n",
            "Epoch 32/50\n",
            "192/192 [==============================] - 0s 2ms/step - loss: 0.0066 - accuracy: 0.9969\n",
            "Epoch 33/50\n",
            "192/192 [==============================] - 0s 2ms/step - loss: 0.0067 - accuracy: 0.9979\n",
            "Epoch 34/50\n",
            "192/192 [==============================] - 0s 2ms/step - loss: 0.0062 - accuracy: 0.9969\n",
            "Epoch 35/50\n",
            "192/192 [==============================] - 0s 2ms/step - loss: 0.0054 - accuracy: 0.9990\n",
            "Epoch 36/50\n",
            "192/192 [==============================] - 1s 3ms/step - loss: 0.0054 - accuracy: 0.9979\n",
            "Epoch 37/50\n",
            "192/192 [==============================] - 1s 4ms/step - loss: 0.0049 - accuracy: 1.0000\n",
            "Epoch 38/50\n",
            "192/192 [==============================] - 1s 3ms/step - loss: 0.0044 - accuracy: 0.9990\n",
            "Epoch 39/50\n",
            "192/192 [==============================] - 1s 4ms/step - loss: 0.0048 - accuracy: 0.9990\n",
            "Epoch 40/50\n",
            "192/192 [==============================] - 1s 3ms/step - loss: 0.0042 - accuracy: 1.0000\n",
            "Epoch 41/50\n",
            "192/192 [==============================] - 1s 3ms/step - loss: 0.0037 - accuracy: 1.0000\n",
            "Epoch 42/50\n",
            "192/192 [==============================] - 0s 2ms/step - loss: 0.0039 - accuracy: 0.9990\n",
            "Epoch 43/50\n",
            "192/192 [==============================] - 0s 2ms/step - loss: 0.0035 - accuracy: 1.0000\n",
            "Epoch 44/50\n",
            "192/192 [==============================] - 0s 2ms/step - loss: 0.0030 - accuracy: 1.0000\n",
            "Epoch 45/50\n",
            "192/192 [==============================] - 0s 1ms/step - loss: 0.0030 - accuracy: 1.0000\n",
            "Epoch 46/50\n",
            "192/192 [==============================] - 0s 2ms/step - loss: 0.0026 - accuracy: 1.0000\n",
            "Epoch 47/50\n",
            "192/192 [==============================] - 0s 2ms/step - loss: 0.0026 - accuracy: 1.0000\n",
            "Epoch 48/50\n",
            "192/192 [==============================] - 0s 2ms/step - loss: 0.0024 - accuracy: 1.0000\n",
            "Epoch 49/50\n",
            "192/192 [==============================] - 0s 2ms/step - loss: 0.0021 - accuracy: 1.0000\n",
            "Epoch 50/50\n",
            "192/192 [==============================] - 0s 2ms/step - loss: 0.0021 - accuracy: 1.0000\n"
          ]
        }
      ]
    },
    {
      "cell_type": "code",
      "source": [
        "#Plot for Training and Validation accuracy\n",
        "from matplotlib import pyplot as plt\n",
        "plt.plot(history.history ['accuracy'])\n",
        "plt.title('model accuracy')\n",
        "plt.ylabel('accuracy')\n",
        "plt.xlabel('epoch')\n",
        "plt.legend(['train'], loc='lower right')\n",
        "plt.show()\n",
        "plt.savefig('accuracy_curve.png')"
      ],
      "metadata": {
        "colab": {
          "base_uri": "https://localhost:8080/",
          "height": 312
        },
        "id": "p6sfDGlgNNMi",
        "outputId": "82ea5809-db7c-44e0-aadd-c0e3941550f9"
      },
      "execution_count": null,
      "outputs": [
        {
          "output_type": "display_data",
          "data": {
            "text/plain": [
              "<Figure size 432x288 with 1 Axes>"
            ],
            "image/png": "[encoded data removed]"
          },
          "metadata": {
            "needs_background": "light"
          }
        },
        {
          "output_type": "display_data",
          "data": {
            "text/plain": [
              "<Figure size 432x288 with 0 Axes>"
            ]
          },
          "metadata": {}
        }
      ]
    },
    {
      "cell_type": "code",
      "source": [
        "#Plot for training loss\n",
        "plt.plot(history.history ['loss'])\n",
        "plt.title('model loss')\n",
        "plt.ylabel('loss')\n",
        "plt.xlabel('epoch')\n",
        "plt.legend(['train'], loc='upper right')\n",
        "plt.show()\n",
        "plt.savefig('loss_curve.png')"
      ],
      "metadata": {
        "colab": {
          "base_uri": "https://localhost:8080/",
          "height": 312
        },
        "id": "CzveRnJyNksq",
        "outputId": "f40996a9-7b32-4d0b-c320-ec593ee152b0"
      },
      "execution_count": null,
      "outputs": [
        {
          "output_type": "display_data",
          "data": {
            "text/plain": [
              "<Figure size 432x288 with 1 Axes>"
            ],
            "image/png": "[encoded data removed]"
          },
          "metadata": {
            "needs_background": "light"
          }
        },
        {
          "output_type": "display_data",
          "data": {
            "text/plain": [
              "<Figure size 432x288 with 0 Axes>"
            ]
          },
          "metadata": {}
        }
      ]
    },
    {
      "cell_type": "code",
      "source": [
        "history_test = model.evaluate(X_test,y_test)"
      ],
      "metadata": {
        "colab": {
          "base_uri": "https://localhost:8080/"
        },
        "id": "vzt-_UkWNwWM",
        "outputId": "acf4d7c4-2602-471c-edbb-a7ca5b47c44b"
      },
      "execution_count": null,
      "outputs": [
        {
          "output_type": "stream",
          "name": "stdout",
          "text": [
            "13/13 [==============================] - 0s 2ms/step - loss: 0.0013 - accuracy: 1.0000\n"
          ]
        }
      ]
    },
    {
      "cell_type": "code",
      "source": [
        "history_test\n"
      ],
      "metadata": {
        "id": "TNWYNObOGHbI",
        "outputId": "86ec2211-3678-4526-b6fe-00600d949e65",
        "colab": {
          "base_uri": "https://localhost:8080/"
        }
      },
      "execution_count": null,
      "outputs": [
        {
          "output_type": "execute_result",
          "data": {
            "text/plain": [
              "[0.001255334122106433, 1.0]"
            ]
          },
          "metadata": {},
          "execution_count": 22
        }
      ]
    }
  ]
}