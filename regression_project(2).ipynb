{
  "nbformat": 4,
  "nbformat_minor": 0,
  "metadata": {
    "colab": {
      "name": "regression_project.ipynb",
      "provenance": [],
      "collapsed_sections": []
    },
    "kernelspec": {
      "name": "python3",
      "display_name": "Python 3"
    },
    "language_info": {
      "name": "python"
    }
  },
  "cells": [
    {
      "cell_type": "code",
      "execution_count": null,
      "metadata": {
        "colab": {
          "base_uri": "https://localhost:8080/"
        },
        "id": "j7KycrpZABKR",
        "outputId": "dfd2feba-268e-4b3d-dd4b-5123c3c0e39e"
      },
      "outputs": [
        {
          "output_type": "stream",
          "name": "stdout",
          "text": [
            "Mounted at /content/drive\n"
          ]
        }
      ],
      "source": [
        "from google.colab import drive\n",
        "drive.mount('/content/drive')"
      ]
    },
    {
      "cell_type": "code",
      "source": [
        "import numpy as np\n",
        "import pandas as pd"
      ],
      "metadata": {
        "id": "7ENgc8sgBhVD"
      },
      "execution_count": null,
      "outputs": []
    },
    {
      "cell_type": "code",
      "source": [
        "from sklearn.linear_model import LinearRegression\n",
        "from sklearn.model_selection import train_test_split"
      ],
      "metadata": {
        "id": "1EVgbe1sVtw2"
      },
      "execution_count": null,
      "outputs": []
    },
    {
      "cell_type": "code",
      "source": [
        "dataset=pd.read_csv('/content/drive/MyDrive/Dataset/Salary_Data.csv')"
      ],
      "metadata": {
        "id": "YaS9t3-uBosr"
      },
      "execution_count": null,
      "outputs": []
    },
    {
      "cell_type": "markdown",
      "source": [
        "Viewing the top 5 rows, we can see how the data will be arranged\n"
      ],
      "metadata": {
        "id": "ceNQrW_HQBJS"
      }
    },
    {
      "cell_type": "code",
      "source": [
        "X=dataset.iloc[:,[0]].values\n",
        "y=dataset.iloc[:,[1]].values"
      ],
      "metadata": {
        "id": "CFM3AiSoKzIw"
      },
      "execution_count": null,
      "outputs": []
    },
    {
      "cell_type": "code",
      "source": [
        "y"
      ],
      "metadata": {
        "colab": {
          "base_uri": "https://localhost:8080/"
        },
        "id": "2LJsItKh4j4d",
        "outputId": "5e4ee94d-02f1-44ef-95e9-f3b00783de0a"
      },
      "execution_count": null,
      "outputs": [
        {
          "output_type": "execute_result",
          "data": {
            "text/plain": [
              "array([[ 39343],\n",
              "       [ 46205],\n",
              "       [ 37731],\n",
              "       [ 43525],\n",
              "       [ 39891],\n",
              "       [ 56642],\n",
              "       [ 60150],\n",
              "       [ 54445],\n",
              "       [ 64445],\n",
              "       [ 57189],\n",
              "       [ 63218],\n",
              "       [ 55794],\n",
              "       [ 56957],\n",
              "       [ 57081],\n",
              "       [ 61111],\n",
              "       [ 67938],\n",
              "       [ 66029],\n",
              "       [ 83088],\n",
              "       [ 81363],\n",
              "       [ 93940],\n",
              "       [ 91738],\n",
              "       [ 98273],\n",
              "       [101302],\n",
              "       [113812],\n",
              "       [109431],\n",
              "       [105582],\n",
              "       [116969],\n",
              "       [112635],\n",
              "       [122391],\n",
              "       [121872]])"
            ]
          },
          "metadata": {},
          "execution_count": 7
        }
      ]
    },
    {
      "cell_type": "code",
      "source": [
        "X"
      ],
      "metadata": {
        "colab": {
          "base_uri": "https://localhost:8080/"
        },
        "id": "6msf78VAifzV",
        "outputId": "7d331eb8-bfab-4d56-9df2-5e289def6664"
      },
      "execution_count": null,
      "outputs": [
        {
          "output_type": "execute_result",
          "data": {
            "text/plain": [
              "array([[ 1.1],\n",
              "       [ 1.3],\n",
              "       [ 1.5],\n",
              "       [ 2. ],\n",
              "       [ 2.2],\n",
              "       [ 2.9],\n",
              "       [ 3. ],\n",
              "       [ 3.2],\n",
              "       [ 3.2],\n",
              "       [ 3.7],\n",
              "       [ 3.9],\n",
              "       [ 4. ],\n",
              "       [ 4. ],\n",
              "       [ 4.1],\n",
              "       [ 4.5],\n",
              "       [ 4.9],\n",
              "       [ 5.1],\n",
              "       [ 5.3],\n",
              "       [ 5.9],\n",
              "       [ 6. ],\n",
              "       [ 6.8],\n",
              "       [ 7.1],\n",
              "       [ 7.9],\n",
              "       [ 8.2],\n",
              "       [ 8.7],\n",
              "       [ 9. ],\n",
              "       [ 9.5],\n",
              "       [ 9.6],\n",
              "       [10.3],\n",
              "       [10.5]])"
            ]
          },
          "metadata": {},
          "execution_count": 8
        }
      ]
    },
    {
      "cell_type": "markdown",
      "source": [
        "Normalization"
      ],
      "metadata": {
        "id": "pBjNt6X0ZuU1"
      }
    },
    {
      "cell_type": "code",
      "source": [
        "from sklearn.preprocessing import MinMaxScaler,StandardScaler\n",
        "sc = MinMaxScaler()\n",
        "\n",
        "X= sc.fit_transform(X)\n",
        "y= sc.fit_transform(y)"
      ],
      "metadata": {
        "id": "_d8mE6ZvYyzV"
      },
      "execution_count": null,
      "outputs": []
    },
    {
      "cell_type": "markdown",
      "source": [
        "Next, we separate the data into a training set and testing sets:\n"
      ],
      "metadata": {
        "id": "dApSiszzRze0"
      }
    },
    {
      "cell_type": "code",
      "source": [
        "X_train, X_test, y_train, y_test = train_test_split(X, y,test_size = 0.20, random_state = 0)"
      ],
      "metadata": {
        "id": "iWTCQZzuR6V_"
      },
      "execution_count": null,
      "outputs": []
    },
    {
      "cell_type": "markdown",
      "source": [
        "Model Architecture\n"
      ],
      "metadata": {
        "id": "U4jDZ6LAYG9N"
      }
    },
    {
      "cell_type": "code",
      "source": [
        "from tensorflow.keras.models import Sequential\n",
        "from tensorflow.keras.layers import Dense\n",
        "from matplotlib import pyplot as plt"
      ],
      "metadata": {
        "id": "pGz9FadUUDlT"
      },
      "execution_count": null,
      "outputs": []
    },
    {
      "cell_type": "markdown",
      "source": [
        "Define the keras model\n"
      ],
      "metadata": {
        "id": "YT4QT34LRTw5"
      }
    },
    {
      "cell_type": "code",
      "source": [
        "model = Sequential()\n",
        "model.add(Dense(16,input_dim=1, activation='relu'))\n",
        "model.add(Dense(8,activation='relu'))\n",
        "model.add(Dense(1,activation='linear'))\n",
        "#compile the keras model\n",
        "model.compile(loss='MSE', optimizer='adam', metrics=['MAE'])"
      ],
      "metadata": {
        "id": "Jc5J5SOYRZGJ"
      },
      "execution_count": null,
      "outputs": []
    },
    {
      "cell_type": "code",
      "source": [
        "model.summary()"
      ],
      "metadata": {
        "colab": {
          "base_uri": "https://localhost:8080/"
        },
        "id": "Hzt94blnSbAT",
        "outputId": "abaa639a-08a5-47f9-b169-a12c9dd23ad6"
      },
      "execution_count": null,
      "outputs": [
        {
          "output_type": "stream",
          "name": "stdout",
          "text": [
            "Model: \"sequential\"\n",
            "_________________________________________________________________\n",
            " Layer (type)                Output Shape              Param #   \n",
            "=================================================================\n",
            " dense (Dense)               (None, 16)                32        \n",
            "                                                                 \n",
            " dense_1 (Dense)             (None, 8)                 136       \n",
            "                                                                 \n",
            " dense_2 (Dense)             (None, 1)                 9         \n",
            "                                                                 \n",
            "=================================================================\n",
            "Total params: 177\n",
            "Trainable params: 177\n",
            "Non-trainable params: 0\n",
            "_________________________________________________________________\n"
          ]
        }
      ]
    },
    {
      "cell_type": "code",
      "source": [
        "y.shape\n"
      ],
      "metadata": {
        "colab": {
          "base_uri": "https://localhost:8080/"
        },
        "id": "ByZub8zxo7aJ",
        "outputId": "6bafd127-d693-4c0e-99ca-5872ea9e0e88"
      },
      "execution_count": null,
      "outputs": [
        {
          "output_type": "execute_result",
          "data": {
            "text/plain": [
              "(30, 1)"
            ]
          },
          "metadata": {},
          "execution_count": 15
        }
      ]
    },
    {
      "cell_type": "code",
      "source": [
        "History = model.fit(X_train,y_train,epochs=50,batch_size=3)"
      ],
      "metadata": {
        "colab": {
          "base_uri": "https://localhost:8080/"
        },
        "id": "YnsOrhj9jkp1",
        "outputId": "cbffda57-c6e7-40e4-a209-34306fe83301"
      },
      "execution_count": null,
      "outputs": [
        {
          "output_type": "stream",
          "name": "stdout",
          "text": [
            "Epoch 1/50\n",
            "8/8 [==============================] - 1s 2ms/step - loss: 0.2189 - MAE: 0.3824\n",
            "Epoch 2/50\n",
            "8/8 [==============================] - 0s 2ms/step - loss: 0.1924 - MAE: 0.3517\n",
            "Epoch 3/50\n",
            "8/8 [==============================] - 0s 3ms/step - loss: 0.1695 - MAE: 0.3251\n",
            "Epoch 4/50\n",
            "8/8 [==============================] - 0s 2ms/step - loss: 0.1450 - MAE: 0.2995\n",
            "Epoch 5/50\n",
            "8/8 [==============================] - 0s 3ms/step - loss: 0.1267 - MAE: 0.2764\n",
            "Epoch 6/50\n",
            "8/8 [==============================] - 0s 3ms/step - loss: 0.1102 - MAE: 0.2548\n",
            "Epoch 7/50\n",
            "8/8 [==============================] - 0s 2ms/step - loss: 0.0960 - MAE: 0.2320\n",
            "Epoch 8/50\n",
            "8/8 [==============================] - 0s 3ms/step - loss: 0.0793 - MAE: 0.2087\n",
            "Epoch 9/50\n",
            "8/8 [==============================] - 0s 2ms/step - loss: 0.0683 - MAE: 0.1956\n",
            "Epoch 10/50\n",
            "8/8 [==============================] - 0s 3ms/step - loss: 0.0579 - MAE: 0.1812\n",
            "Epoch 11/50\n",
            "8/8 [==============================] - 0s 2ms/step - loss: 0.0503 - MAE: 0.1742\n",
            "Epoch 12/50\n",
            "8/8 [==============================] - 0s 2ms/step - loss: 0.0442 - MAE: 0.1677\n",
            "Epoch 13/50\n",
            "8/8 [==============================] - 0s 2ms/step - loss: 0.0371 - MAE: 0.1597\n",
            "Epoch 14/50\n",
            "8/8 [==============================] - 0s 4ms/step - loss: 0.0335 - MAE: 0.1553\n",
            "Epoch 15/50\n",
            "8/8 [==============================] - 0s 4ms/step - loss: 0.0306 - MAE: 0.1523\n",
            "Epoch 16/50\n",
            "8/8 [==============================] - 0s 4ms/step - loss: 0.0286 - MAE: 0.1500\n",
            "Epoch 17/50\n",
            "8/8 [==============================] - 0s 2ms/step - loss: 0.0267 - MAE: 0.1465\n",
            "Epoch 18/50\n",
            "8/8 [==============================] - 0s 3ms/step - loss: 0.0253 - MAE: 0.1437\n",
            "Epoch 19/50\n",
            "8/8 [==============================] - 0s 3ms/step - loss: 0.0246 - MAE: 0.1422\n",
            "Epoch 20/50\n",
            "8/8 [==============================] - 0s 2ms/step - loss: 0.0234 - MAE: 0.1392\n",
            "Epoch 21/50\n",
            "8/8 [==============================] - 0s 3ms/step - loss: 0.0220 - MAE: 0.1350\n",
            "Epoch 22/50\n",
            "8/8 [==============================] - 0s 3ms/step - loss: 0.0210 - MAE: 0.1315\n",
            "Epoch 23/50\n",
            "8/8 [==============================] - 0s 3ms/step - loss: 0.0201 - MAE: 0.1281\n",
            "Epoch 24/50\n",
            "8/8 [==============================] - 0s 3ms/step - loss: 0.0194 - MAE: 0.1256\n",
            "Epoch 25/50\n",
            "8/8 [==============================] - 0s 3ms/step - loss: 0.0178 - MAE: 0.1203\n",
            "Epoch 26/50\n",
            "8/8 [==============================] - 0s 3ms/step - loss: 0.0168 - MAE: 0.1162\n",
            "Epoch 27/50\n",
            "8/8 [==============================] - 0s 4ms/step - loss: 0.0152 - MAE: 0.1104\n",
            "Epoch 28/50\n",
            "8/8 [==============================] - 0s 4ms/step - loss: 0.0125 - MAE: 0.0975\n",
            "Epoch 29/50\n",
            "8/8 [==============================] - 0s 2ms/step - loss: 0.0107 - MAE: 0.0899\n",
            "Epoch 30/50\n",
            "8/8 [==============================] - 0s 2ms/step - loss: 0.0094 - MAE: 0.0846\n",
            "Epoch 31/50\n",
            "8/8 [==============================] - 0s 3ms/step - loss: 0.0085 - MAE: 0.0800\n",
            "Epoch 32/50\n",
            "8/8 [==============================] - 0s 3ms/step - loss: 0.0077 - MAE: 0.0757\n",
            "Epoch 33/50\n",
            "8/8 [==============================] - 0s 3ms/step - loss: 0.0071 - MAE: 0.0725\n",
            "Epoch 34/50\n",
            "8/8 [==============================] - 0s 4ms/step - loss: 0.0066 - MAE: 0.0698\n",
            "Epoch 35/50\n",
            "8/8 [==============================] - 0s 3ms/step - loss: 0.0061 - MAE: 0.0668\n",
            "Epoch 36/50\n",
            "8/8 [==============================] - 0s 3ms/step - loss: 0.0058 - MAE: 0.0653\n",
            "Epoch 37/50\n",
            "8/8 [==============================] - 0s 3ms/step - loss: 0.0055 - MAE: 0.0634\n",
            "Epoch 38/50\n",
            "8/8 [==============================] - 0s 3ms/step - loss: 0.0053 - MAE: 0.0618\n",
            "Epoch 39/50\n",
            "8/8 [==============================] - 0s 3ms/step - loss: 0.0052 - MAE: 0.0613\n",
            "Epoch 40/50\n",
            "8/8 [==============================] - 0s 3ms/step - loss: 0.0051 - MAE: 0.0605\n",
            "Epoch 41/50\n",
            "8/8 [==============================] - 0s 3ms/step - loss: 0.0051 - MAE: 0.0597\n",
            "Epoch 42/50\n",
            "8/8 [==============================] - 0s 3ms/step - loss: 0.0049 - MAE: 0.0587\n",
            "Epoch 43/50\n",
            "8/8 [==============================] - 0s 3ms/step - loss: 0.0048 - MAE: 0.0575\n",
            "Epoch 44/50\n",
            "8/8 [==============================] - 0s 3ms/step - loss: 0.0047 - MAE: 0.0569\n",
            "Epoch 45/50\n",
            "8/8 [==============================] - 0s 3ms/step - loss: 0.0048 - MAE: 0.0576\n",
            "Epoch 46/50\n",
            "8/8 [==============================] - 0s 2ms/step - loss: 0.0046 - MAE: 0.0573\n",
            "Epoch 47/50\n",
            "8/8 [==============================] - 0s 2ms/step - loss: 0.0046 - MAE: 0.0565\n",
            "Epoch 48/50\n",
            "8/8 [==============================] - 0s 2ms/step - loss: 0.0045 - MAE: 0.0561\n",
            "Epoch 49/50\n",
            "8/8 [==============================] - 0s 3ms/step - loss: 0.0045 - MAE: 0.0566\n",
            "Epoch 50/50\n",
            "8/8 [==============================] - 0s 3ms/step - loss: 0.0046 - MAE: 0.0560\n"
          ]
        }
      ]
    },
    {
      "cell_type": "code",
      "source": [
        "#Plot for Training and Validation accuracy\n",
        "from matplotlib import pyplot as plt\n",
        "plt.plot(History.history ['MAE'])\n",
        "plt.title('model accuracy')\n",
        "plt.ylabel('MAE')\n",
        "plt.xlabel('epoch')\n",
        "plt.legend(['train'], loc='upper left')\n",
        "plt.show()\n",
        "plt.savefig('accuracy_curve.png')"
      ],
      "metadata": {
        "colab": {
          "base_uri": "https://localhost:8080/",
          "height": 314
        },
        "id": "kybqlG4ejpnl",
        "outputId": "0b46b12b-0148-4238-a843-a10934d44a8b"
      },
      "execution_count": null,
      "outputs": [
        {
          "output_type": "display_data",
          "data": {
            "text/plain": [
              "<Figure size 432x288 with 1 Axes>"
            ],
            "image/png": "[encoded data removed]"
          },
          "metadata": {
            "needs_background": "light"
          }
        },
        {
          "output_type": "display_data",
          "data": {
            "text/plain": [
              "<Figure size 432x288 with 0 Axes>"
            ]
          },
          "metadata": {}
        }
      ]
    },
    {
      "cell_type": "code",
      "source": [
        "#Plot for training loss\n",
        "plt.plot(History.history ['loss'])\n",
        "plt.title('model loss')\n",
        "plt.ylabel('loss')\n",
        "plt.xlabel('epoch')\n",
        "plt.legend(['train'], loc='upper left')\n",
        "plt.show()\n",
        "plt.savefig('loss_curve.png')"
      ],
      "metadata": {
        "colab": {
          "base_uri": "https://localhost:8080/",
          "height": 314
        },
        "id": "THZ8SbR7kAM6",
        "outputId": "45d9e442-7771-489d-9caa-56397a45b46c"
      },
      "execution_count": null,
      "outputs": [
        {
          "output_type": "display_data",
          "data": {
            "text/plain": [
              "<Figure size 432x288 with 1 Axes>"
            ],
            "image/png": "[encoded data removed]"
          },
          "metadata": {
            "needs_background": "light"
          }
        },
        {
          "output_type": "display_data",
          "data": {
            "text/plain": [
              "<Figure size 432x288 with 0 Axes>"
            ]
          },
          "metadata": {}
        }
      ]
    },
    {
      "cell_type": "code",
      "source": [
        "history_test = model.evaluate(X_test,y_test)"
      ],
      "metadata": {
        "colab": {
          "base_uri": "https://localhost:8080/"
        },
        "id": "RrBp7LVjlkH3",
        "outputId": "3310b5b8-45cf-48e5-a8e7-e5110c374b48"
      },
      "execution_count": null,
      "outputs": [
        {
          "output_type": "stream",
          "name": "stdout",
          "text": [
            "1/1 [==============================] - 0s 159ms/step - loss: 0.0022 - MAE: 0.0393\n"
          ]
        }
      ]
    },
    {
      "cell_type": "code",
      "source": [
        "history_test"
      ],
      "metadata": {
        "colab": {
          "base_uri": "https://localhost:8080/"
        },
        "id": "CvV3W9Wel66R",
        "outputId": "ad4d49c1-418c-4ea4-ab5c-0d4d9cbf1999"
      },
      "execution_count": null,
      "outputs": [
        {
          "output_type": "execute_result",
          "data": {
            "text/plain": [
              "[0.0021793015766888857, 0.039261624217033386]"
            ]
          },
          "metadata": {},
          "execution_count": 16
        }
      ]
    }
  ]
}